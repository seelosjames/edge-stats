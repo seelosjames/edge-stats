{
 "cells": [
  {
   "cell_type": "code",
   "execution_count": 11,
   "metadata": {},
   "outputs": [],
   "source": [
    "import math\n",
    "import random\n",
    "import time\n",
    "import numpy as np"
   ]
  },
  {
   "cell_type": "code",
   "execution_count": 2,
   "metadata": {},
   "outputs": [],
   "source": [
    "def american_to_percentage(odds):\n",
    "    if odds >= 100:\n",
    "        return 100 / (odds + 100)\n",
    "    elif odds <= -100:\n",
    "        return abs(odds) / (abs(odds) + 100)\n",
    "    else:\n",
    "        print(\"Invalid Number, cannot be between -100 and 100\")\n",
    "        return None\n",
    "    \n",
    "def percentage_to_american(probability):\n",
    "    if probability == 0:\n",
    "        return None\n",
    "    elif probability > 0.5:\n",
    "        return round((probability * 100) / (1 - probability) * -1)\n",
    "    else:\n",
    "        return round((100 / probability) - 100)\n",
    "    \n",
    "def calculate_winnings(odds, bet_amount):\n",
    "    if odds > 0:\n",
    "        winnings = (odds / 100) * bet_amount\n",
    "    else:\n",
    "        winnings = (100 / abs(odds)) * bet_amount\n",
    "    \n",
    "    return round(winnings, 2)\n",
    "\n",
    "def parlay(odds_list):\n",
    "    parlay_probability = 1\n",
    "    for odds in odds_list:\n",
    "        parlay_probability *= american_to_percentage(odds)\n",
    "    return parlay_probability   \n",
    "    "
   ]
  },
  {
   "cell_type": "code",
   "execution_count": 148,
   "metadata": {},
   "outputs": [
    {
     "name": "stdout",
     "output_type": "stream",
     "text": [
      "WON: 884478\n",
      "LOST: 115522\n",
      "Chances of Suceeding: 0.884478\n"
     ]
    }
   ],
   "source": [
    "odds = -135\n",
    "paid_odds = -110\n",
    "win = 0\n",
    "lost = 0\n",
    "goal = 300\n",
    "\n",
    "for _ in range(1_000_000):\n",
    "    current = 100\n",
    "    amount = 1\n",
    "    bets = 0\n",
    "\n",
    "    while current > 0 and current < goal and bets < 1_000_000:\n",
    "        bets += 1\n",
    "        won = False\n",
    "        while not won:\n",
    "            if current <= 0:\n",
    "                break\n",
    "            if current - amount < 0:\n",
    "                amount = current\n",
    "            current -= amount\n",
    "            num = random.random()\n",
    "            if num < american_to_percentage(odds):\n",
    "                won = True\n",
    "                current += calculate_winnings(paid_odds, amount) + amount\n",
    "                amount = 10\n",
    "            else:\n",
    "                amount *= 1\n",
    "            if current >= goal:\n",
    "                break\n",
    "    if current > 0:\n",
    "        win += 1\n",
    "    else:\n",
    "        lost += 1\n",
    "\n",
    "\n",
    "print(\"WON:\", win)\n",
    "print(\"LOST:\", lost)\n",
    "\n",
    "print(\"Chances of Suceeding:\", win / 1_000_000)"
   ]
  }
 ],
 "metadata": {
  "kernelspec": {
   "display_name": "Python 3",
   "language": "python",
   "name": "python3"
  },
  "language_info": {
   "codemirror_mode": {
    "name": "ipython",
    "version": 3
   },
   "file_extension": ".py",
   "mimetype": "text/x-python",
   "name": "python",
   "nbconvert_exporter": "python",
   "pygments_lexer": "ipython3",
   "version": "3.12.3"
  }
 },
 "nbformat": 4,
 "nbformat_minor": 2
}
