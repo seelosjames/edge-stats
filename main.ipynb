{
 "cells": [
  {
   "cell_type": "code",
   "execution_count": 1,
   "metadata": {},
   "outputs": [],
   "source": [
    "import math\n",
    "import random\n",
    "import time\n",
    "import numpy as np"
   ]
  },
  {
   "cell_type": "code",
   "execution_count": 2,
   "metadata": {},
   "outputs": [],
   "source": [
    "def american_to_percentage(odds):\n",
    "    if odds >= 100:\n",
    "        return 100 / (odds + 100)\n",
    "    elif odds <= -100:\n",
    "        return abs(odds) / (abs(odds) + 100)\n",
    "    else:\n",
    "        print(\"Invalid Number, cannot be between -100 and 100\")\n",
    "        return None\n",
    "    \n",
    "def percentage_to_american(probability):\n",
    "    if probability == 0:\n",
    "        return None\n",
    "    elif probability > 0.5:\n",
    "        return round((probability * 100) / (1 - probability) * -1)\n",
    "    else:\n",
    "        return round((100 / probability) - 100)\n",
    "    \n",
    "def calculate_winnings(odds, bet_amount):\n",
    "    if odds > 0:\n",
    "        winnings = (odds / 100) * bet_amount\n",
    "    else:\n",
    "        winnings = (100 / abs(odds)) * bet_amount\n",
    "    \n",
    "    return round(winnings, 2)\n",
    "\n",
    "def parlay(odds_list):\n",
    "    parlay_probability = 1\n",
    "    for odds in odds_list:\n",
    "        parlay_probability *= american_to_percentage(odds)\n",
    "    return parlay_probability   \n",
    "    "
   ]
  },
  {
   "cell_type": "code",
   "execution_count": 31,
   "metadata": {},
   "outputs": [],
   "source": [
    "def simulate_betting(odds=-135, paid_odds=-110, goal=3000, initial_balance=100, bet_percentage=0.1, iterations=10_000, max_bets=1_000_000):\n",
    "    win = 0\n",
    "    lost = 0\n",
    "    bets_to_goal = []  # List to store the number of bets to reach the goal for each successful session\n",
    "\n",
    "    for _ in range(iterations):\n",
    "        current_balance = initial_balance\n",
    "        bets = 0\n",
    "\n",
    "        while 0 < current_balance < goal and bets < max_bets:\n",
    "            bets += 1\n",
    "            bet_amount = current_balance * bet_percentage  # Bet a percentage of the current balance\n",
    "            \n",
    "            # Ensure the bet does not exceed the current balance\n",
    "            if bet_amount > current_balance:\n",
    "                bet_amount = current_balance\n",
    "\n",
    "            # Deduct bet from current balance\n",
    "            current_balance -= bet_amount\n",
    "\n",
    "            # Check if the bet is won\n",
    "            if random.random() < american_to_percentage(odds):\n",
    "                # Winning outcome\n",
    "                winnings = calculate_winnings(paid_odds, bet_amount)\n",
    "                current_balance += winnings + bet_amount\n",
    "            else:\n",
    "                # Losing outcome; bet remains a percentage of the new balance next round\n",
    "                pass\n",
    "\n",
    "            # Break if goal is reached\n",
    "            if current_balance >= goal:\n",
    "                bets_to_goal.append(bets)  # Track number of bets for this successful session\n",
    "                break\n",
    "\n",
    "        # Track wins and losses\n",
    "        if current_balance >= goal:\n",
    "            win += 1\n",
    "        else:\n",
    "            lost += 1\n",
    "\n",
    "    # Calculate average bets to reach the goal for successful sessions\n",
    "    average_bets_to_goal = sum(bets_to_goal) / len(bets_to_goal) if bets_to_goal else 0\n",
    "\n",
    "    # Output results\n",
    "    print(\"WON:\", win)\n",
    "    print(\"LOST:\", lost)\n",
    "    print(\"Chances of Succeeding:\", win / iterations)\n",
    "    print(\"Average Bets to Reach Goal:\", average_bets_to_goal)\n"
   ]
  },
  {
   "cell_type": "code",
   "execution_count": 50,
   "metadata": {},
   "outputs": [
    {
     "name": "stdout",
     "output_type": "stream",
     "text": [
      "WON: 999\n",
      "LOST: 1\n",
      "Chances of Succeeding: 0.999\n",
      "Average Bets to Reach Goal: 613.1771771771772\n"
     ]
    }
   ],
   "source": [
    "simulate_betting(\n",
    "    odds=-135, \n",
    "    paid_odds=-110, \n",
    "    goal=2000, \n",
    "    initial_balance=100, \n",
    "    bet_percentage=0.1,\n",
    "    iterations=1000, \n",
    "    max_bets=1_000_000\n",
    ")"
   ]
  }
 ],
 "metadata": {
  "kernelspec": {
   "display_name": "Python 3",
   "language": "python",
   "name": "python3"
  },
  "language_info": {
   "codemirror_mode": {
    "name": "ipython",
    "version": 3
   },
   "file_extension": ".py",
   "mimetype": "text/x-python",
   "name": "python",
   "nbconvert_exporter": "python",
   "pygments_lexer": "ipython3",
   "version": "3.12.3"
  }
 },
 "nbformat": 4,
 "nbformat_minor": 2
}
